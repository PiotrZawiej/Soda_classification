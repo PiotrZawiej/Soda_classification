{
  "nbformat": 4,
  "nbformat_minor": 0,
  "metadata": {
    "colab": {
      "provenance": [],
      "mount_file_id": "18fQRiweJmmHKkAb7LXyjJqoZP-7AkGGW",
      "authorship_tag": "ABX9TyMh39EWJShp0PYvVWJHghZY",
      "include_colab_link": true
    },
    "kernelspec": {
      "name": "python3",
      "display_name": "Python 3"
    },
    "language_info": {
      "name": "python"
    }
  },
  "cells": [
    {
      "cell_type": "markdown",
      "metadata": {
        "id": "view-in-github",
        "colab_type": "text"
      },
      "source": [
        "<a href=\"https://colab.research.google.com/github/PiotrZawiej/soda_classification/blob/main/zaawansowae_programowanie.ipynb\" target=\"_parent\"><img src=\"https://colab.research.google.com/assets/colab-badge.svg\" alt=\"Open In Colab\"/></a>"
      ]
    },
    {
      "cell_type": "code",
      "execution_count": null,
      "metadata": {
        "id": "E7uFSbHFTTy6",
        "collapsed": true
      },
      "outputs": [],
      "source": [
        "!pip install -U --no-cache-dir gdown==4.6.0 --pre\n",
        "!rm -rf data && mkdir data\n",
        "!gdown 1SvLyob1GsBcBltUATofWrgpA55VSxe_Y -O data.zip\n",
        "!unzip -q data.zip -d data"
      ]
    },
    {
      "cell_type": "code",
      "source": [
        "import os\n",
        "import shutil\n",
        "import xml.etree.ElementTree as ET"
      ],
      "metadata": {
        "id": "EueaL9P6C6FP"
      },
      "execution_count": null,
      "outputs": []
    },
    {
      "cell_type": "code",
      "source": [
        "\n",
        "\n",
        "def grupuj_zdjecia(annotations_path, images_path, output_path):\n",
        "\n",
        "    tree = ET.parse(annotations_path)\n",
        "    root = tree.getroot()\n",
        "\n",
        "    for image in root.findall('image'):\n",
        "        image_name = image.get('name')\n",
        "        tag_element = image.find('tag')\n",
        "        label = tag_element.get('label') if tag_element is not None else \"unknown\"\n",
        "\n",
        "        if image_name:\n",
        "            src_path = os.path.join(images_path, os.path.basename(image_name))\n",
        "            dest_dir = os.path.join(output_path, label)\n",
        "            dest_path = os.path.join(dest_dir, os.path.basename(image_name))\n",
        "\n",
        "            os.makedirs(dest_dir, exist_ok=True)\n",
        "\n",
        "            if os.path.exists(src_path):\n",
        "                shutil.copy2(src_path, dest_path)\n",
        "                print(f\"Skopiowano {image_name} do {dest_dir}\")\n",
        "            else:\n",
        "                print(f\"Plik {src_path} nie istnieje.\")\n",
        "\n",
        "    print(\"Grupowanie zakończone.\")\n",
        "\n",
        "grupuj_zdjecia(r\"/content/data/annotations.xml\", \"/content/data\", \"/content/sorted_photos\")\n"
      ],
      "metadata": {
        "id": "0e-u2bXE_8t8",
        "collapsed": true
      },
      "execution_count": null,
      "outputs": []
    }
  ]
}